{
 "cells": [
  {
   "cell_type": "code",
   "execution_count": 1,
   "metadata": {},
   "outputs": [],
   "source": [
    "import requests"
   ]
  },
  {
   "cell_type": "markdown",
   "metadata": {},
   "source": [
    "Mise en place de l'api"
   ]
  },
  {
   "cell_type": "code",
   "execution_count": 2,
   "metadata": {},
   "outputs": [],
   "source": [
    "url = \"http://api.endlessmedical.com/v1/dx/\""
   ]
  },
  {
   "cell_type": "markdown",
   "metadata": {},
   "source": [
    "L'api exige qu'avant toute chose on récupère un id session"
   ]
  },
  {
   "cell_type": "code",
   "execution_count": 4,
   "metadata": {},
   "outputs": [],
   "source": [
    "init_output = requests.get(url +\"InitSession\")"
   ]
  },
  {
   "cell_type": "code",
   "execution_count": 5,
   "metadata": {},
   "outputs": [
    {
     "name": "stdout",
     "output_type": "stream",
     "text": [
      "hvnhDk9XaycT6zes\n"
     ]
    }
   ],
   "source": [
    "session_id = init_output.json()['SessionID']\n",
    "print(session_id)"
   ]
  },
  {
   "cell_type": "markdown",
   "metadata": {},
   "source": [
    "Il faut ensuite accepter les terms of use"
   ]
  },
  {
   "cell_type": "code",
   "execution_count": 55,
   "metadata": {},
   "outputs": [
    {
     "name": "stdout",
     "output_type": "stream",
     "text": [
      "<Response [200]>\n",
      "{'status': 'ok'}\n"
     ]
    }
   ],
   "source": [
    "param_atou = {\n",
    "    \"SessionID\":session_id,\n",
    "    \"passphrase\":\"I have read, understood and I accept and agree to comply with the Terms of Use of EndlessMedicalAPI and Endless Medical services. The Terms of Use are available on endlessmedical.com\" \n",
    "    }\n",
    "\n",
    "atou_output = requests.post(url +\"AcceptTermsOfUse\", params=param_atou)\n",
    "print(atou_output)\n",
    "print(atou_output.json())"
   ]
  },
  {
   "cell_type": "markdown",
   "metadata": {},
   "source": [
    "Il a 19 ans, il a fait jusqu'à 40 de fièvre la semaine dernière, il a été en contact récent avec quelqu'un de malade.(sa soeur), depuis peu il est devenu végétarien. Il n'a plus d'odorat depuis 3 jours. Il fait de l'asthme mais n'a jamais été hospitalisé pour. \n",
    "\n",
    "\n",
    "\n",
    "Patient 2:\n",
    "\n",
    "Il a 82 ans, il a déja fait un arret cardiaque. Il a eu des épisodes de palpitations, des mots de tête avec une arythmie cardiaque.  Il a aussi mal aux genoux, à l'épaule et aux pieds.  "
   ]
  },
  {
   "cell_type": "code",
   "execution_count": 59,
   "metadata": {},
   "outputs": [],
   "source": [
    "param = {\n",
    "    \"SessionID\":session_id,\n",
    "    }\n",
    "\n",
    "patient_one_symptoms = {\n",
    "    \"Age\":19,\n",
    "    \"Temp\": 104.0,\n",
    "    \"Contacts\":3,\n",
    "    \"NewFoods\":3,\n",
    "    \"LossOfSmell\":3,\n",
    "    \"PMHXAsthma\":3\n",
    "    }\n",
    "\n",
    "\n",
    "for key,value in patient_one_symptoms.items():\n",
    "    param_symptom = param.copy()\n",
    "    param_symptom.update({\"name\":key, \"value\":value})\n",
    "    requests.post(url +\"UpdateFeature\", params=param_symptom)\n",
    "\n"
   ]
  },
  {
   "cell_type": "code",
   "execution_count": 60,
   "metadata": {},
   "outputs": [
    {
     "name": "stdout",
     "output_type": "stream",
     "text": [
      "{'Chronic asthma': [['PMHXAsthma', '1.0'], ['FEV1toFVCRatioImprovingBy12BeforeAndAfterBronchodilator', '0.8560450022808987']], 'Septic shock': [['SBP', '1.0'], ['Arrest', '0.3219868261349471']], 'Chronic obstructive pulmonary disease (COPD)': [['PMHXCOPD', '1.0'], ['pCO2onABG', '0.9066965049828422']]}\n"
     ]
    }
   ],
   "source": [
    "patient_on_analysis = requests.get(url +\"Analyze\", params=param).json()\n",
    "\n",
    "patient_diag = {}\n",
    "for i in range(3):\n",
    "    desease_name = list(patient_on_analysis[\"Diseases\"][i].items())[0][0]\n",
    "    list_symptoms = patient_on_analysis[\"VariableImportances\"][i][desease_name][:2]\n",
    "    patient_diag[desease_name] = list_symptoms\n",
    "    \n",
    "print(patient_diag)"
   ]
  },
  {
   "cell_type": "markdown",
   "metadata": {},
   "source": [
    "Pour le deuxième patient, on crée une autre session:"
   ]
  },
  {
   "cell_type": "code",
   "execution_count": 58,
   "metadata": {},
   "outputs": [
    {
     "name": "stdout",
     "output_type": "stream",
     "text": [
      "{'Septic shock': [['SBP', '1.0'], ['Arrest', '0.3219868261349471']], \"Crohn's disease\": [['PMHXChrons', '1.0'], ['CrohnsOnColonoscopy', '0.47406799428819785']], 'Arterial embolism (embolization) caused lower extremity ischemia': [['ArterialLowerExtremitiesDopplers', '1.0'], ['DistalPulsesLE', '0.6980399762010554']]}\n"
     ]
    }
   ],
   "source": [
    "init_output = requests.get(url +\"InitSession\")\n",
    "session_id = init_output.json()['SessionID']\n",
    "param_atou = {\n",
    "    \"SessionID\":session_id,\n",
    "    \"passphrase\":\"I have read, understood and I accept and agree to comply with the Terms of Use of EndlessMedicalAPI and Endless Medical services. The Terms of Use are available on endlessmedical.com\" \n",
    "    }\n",
    "\n",
    "atou_output = requests.post(url +\"AcceptTermsOfUse\", params=param_atou)\n",
    "\n",
    "param = {\n",
    "    \"SessionID\":session_id,\n",
    "    }\n",
    "\n",
    "patient_two_symptoms = {\n",
    "    \"Age\":82,\n",
    "    \"Arrest\": 3,\n",
    "    \"Arrhythmia\":4,\n",
    "    \"ArrhythmiaSymptomsHeadaches\":4,\n",
    "    \"JointsPain\":3,\n",
    "    }\n",
    "\n",
    "\n",
    "for key,value in patient_two_symptoms.items():\n",
    "    param_symptom = param.copy()\n",
    "    param_symptom.update({\"name\":key, \"value\":value})\n",
    "    requests.post(url +\"UpdateFeature\", params=param_symptom)\n",
    "\n",
    "patient_on_analysis = requests.get(url +\"Analyze\", params=param).json()\n",
    "\n",
    "patient_diag = {}\n",
    "for i in range(3):\n",
    "    desease_name = list(patient_on_analysis[\"Diseases\"][i].items())[0][0]\n",
    "    list_symptoms = patient_on_analysis[\"VariableImportances\"][i][desease_name][:2]\n",
    "    patient_diag[desease_name] = list_symptoms\n",
    "    \n",
    "print(patient_diag)"
   ]
  },
  {
   "cell_type": "markdown",
   "metadata": {},
   "source": [
    "Le meme résultat en factorisant:"
   ]
  },
  {
   "cell_type": "code",
   "execution_count": 61,
   "metadata": {},
   "outputs": [],
   "source": [
    "def diagnostic_function(dict_symptoms):\n",
    "    init_output = requests.get(url +\"InitSession\")\n",
    "    session_id = init_output.json()['SessionID']\n",
    "    param_atou = {\n",
    "        \"SessionID\":session_id,\n",
    "        \"passphrase\":\"I have read, understood and I accept and agree to comply with the Terms of Use of EndlessMedicalAPI and Endless Medical services. The Terms of Use are available on endlessmedical.com\" \n",
    "        }\n",
    "\n",
    "    requests.post(url +\"AcceptTermsOfUse\", params=param_atou)\n",
    "\n",
    "    param = {\n",
    "        \"SessionID\":session_id,\n",
    "        }\n",
    "\n",
    "\n",
    "    for key,value in dict_symptoms.items():\n",
    "        param_symptom = param.copy()\n",
    "        param_symptom.update({\"name\":key, \"value\":value})\n",
    "        requests.post(url +\"UpdateFeature\", params=param_symptom)\n",
    "\n",
    "    patient_on_analysis = requests.get(url +\"Analyze\", params=param).json()\n",
    "\n",
    "    patient_diag = {}\n",
    "    for i in range(3):\n",
    "        desease_name = list(patient_on_analysis[\"Diseases\"][i].items())[0][0]\n",
    "        list_symptoms = patient_on_analysis[\"VariableImportances\"][i][desease_name][:2]\n",
    "        patient_diag[desease_name] = list_symptoms\n",
    "\n",
    "    return patient_diag\n",
    "\n",
    "\n",
    "     "
   ]
  },
  {
   "cell_type": "code",
   "execution_count": 63,
   "metadata": {},
   "outputs": [
    {
     "name": "stdout",
     "output_type": "stream",
     "text": [
      "{'Chronic asthma': [['PMHXAsthma', '1.0'], ['FEV1toFVCRatioImprovingBy12BeforeAndAfterBronchodilator', '0.8560450022808987']], 'Chronic obstructive pulmonary disease (COPD)': [['PMHXCOPD', '1.0'], ['pCO2onABG', '0.9066965049828422']], 'Septic shock': [['SBP', '1.0'], ['Arrest', '0.3219868261349471']]}\n",
      "{'Septic shock': [['SBP', '1.0'], ['Arrest', '0.3219868261349471']], \"Crohn's disease\": [['PMHXChrons', '1.0'], ['CrohnsOnColonoscopy', '0.47406799428819785']], 'Arterial embolism (embolization) caused lower extremity ischemia': [['ArterialLowerExtremitiesDopplers', '1.0'], ['DistalPulsesLE', '0.6980399762010554']]}\n"
     ]
    }
   ],
   "source": [
    "patient_one_symptoms = {\n",
    "    \"Age\":19,\n",
    "    \"Temp\": 104.0,\n",
    "    \"Contacts\":3,\n",
    "    \"NewFoods\":3,\n",
    "    \"LossOfSmell\":3,\n",
    "    \"PMHXAsthma\":3\n",
    "    }\n",
    "\n",
    "patient_two_symptoms = {\n",
    "    \"Age\":82,\n",
    "    \"Arrest\": 3,\n",
    "    \"Arrhythmia\":4,\n",
    "    \"ArrhythmiaSymptomsHeadaches\":4,\n",
    "    \"JointsPain\":3,\n",
    "    }\n",
    "\n",
    "print(diagnostic_function(patient_one_symptoms))\n",
    "print(diagnostic_function(patient_two_symptoms))"
   ]
  }
 ],
 "metadata": {
  "kernelspec": {
   "display_name": "Python 3.9.12 64-bit",
   "language": "python",
   "name": "python3"
  },
  "language_info": {
   "codemirror_mode": {
    "name": "ipython",
    "version": 3
   },
   "file_extension": ".py",
   "mimetype": "text/x-python",
   "name": "python",
   "nbconvert_exporter": "python",
   "pygments_lexer": "ipython3",
   "version": "3.9.12"
  },
  "orig_nbformat": 4,
  "vscode": {
   "interpreter": {
    "hash": "aee8b7b246df8f9039afb4144a1f6fd8d2ca17a180786b69acc140d282b71a49"
   }
  }
 },
 "nbformat": 4,
 "nbformat_minor": 2
}
