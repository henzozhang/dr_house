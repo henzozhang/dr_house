{
 "cells": [
  {
   "cell_type": "code",
   "execution_count": 91,
   "metadata": {},
   "outputs": [],
   "source": [
    "import requests"
   ]
  },
  {
   "cell_type": "markdown",
   "metadata": {},
   "source": [
    "URL = \"http://api.endlessmedical.com/v1/dx/\"\n",
    "\n",
    "list_of_features = requests.get(URL + \"GetFeatures\")\n",
    "\n",
    "print(list_of_features.json())"
   ]
  },
  {
   "cell_type": "code",
   "execution_count": 92,
   "metadata": {},
   "outputs": [],
   "source": [
    "URL = \"http://api.endlessmedical.com/v1/dx/\"\n",
    "response_InitSession = requests.get(URL + \"InitSession\")\n",
    "session_id = response_InitSession.json()[\"SessionID\"]"
   ]
  },
  {
   "cell_type": "code",
   "execution_count": 93,
   "metadata": {},
   "outputs": [
    {
     "data": {
      "text/plain": [
       "{'status': 'ok'}"
      ]
     },
     "execution_count": 93,
     "metadata": {},
     "output_type": "execute_result"
    }
   ],
   "source": [
    "passphrase = \"I have read, understood and I accept and agree to comply with the Terms of Use of EndlessMedicalAPI and Endless Medical services. The Terms of Use are available on endlessmedical.com\"\n",
    "parameters = {\"SessionID\" : session_id, \"passphrase\" : passphrase}\n",
    "\n",
    "response_AcceptTermsOfUse = requests.post(URL + \"AcceptTermsOfUse\", params = parameters)\n",
    "\n",
    "response_AcceptTermsOfUse.json()"
   ]
  },
  {
   "cell_type": "code",
   "execution_count": 100,
   "metadata": {},
   "outputs": [
    {
     "name": "stdout",
     "output_type": "stream",
     "text": [
      "Age 19\n",
      "Temp 104.0\n",
      "Contacts 3\n",
      "NewFoods 3\n",
      "LossOfSmell 3\n",
      "PMHXAsthma 3\n"
     ]
    }
   ],
   "source": [
    "patient1 = {\"Age\" : 19 , \"Temp\" : 104.0 , \"Contacts\" : 3 , \"NewFoods\" : 3 , \"LossOfSmell\" : 3 , \"PMHXAsthma\" : 3}\n",
    "\n",
    "def addFeatures(person):\n",
    "    for i in person:\n",
    "        print(i,person[i])\n",
    "        parameters = {\"SessionID\" : session_id , \"name\" : i , \"value\" : person[i]}\n",
    "        requests.post(URL + \"UpdateFeature\", params = parameters)\n",
    "\n",
    "addFeatures(patient1)"
   ]
  },
  {
   "cell_type": "code",
   "execution_count": 103,
   "metadata": {},
   "outputs": [
    {
     "data": {
      "text/plain": [
       "'{\"status\":\"ok\",\"Diseases\":[{\"Chronic asthma\":\"0.28426035261081384\"},{\"Chronic obstructive pulmonary disease (COPD)\":\"0.04427960901587269\"},{\"Septic shock\":\"0.04301496341390232\"},{\"Crohn\\'s disease\":\"0.03611755399695382\"},{\"Ulcerative colitis\":\"0.031081128501297184\"},{\"Chronic sinusitis\":\"0.03100216294160063\"},{\"Influenza\":\"0.02909865152590485\"},{\"Allergic rhinitis to pollen\":\"0.027735179266990984\"},{\"Coronavirus disease 2019 (Covid-19) mostly upper respiratory tract infection with, or without bronchitis, but without significant pneumonia\":\"0.025210084033613467\"},{\"Viral pharyngitis (etiology usually rhinovirus, coronavirus, adenovirus, parainfluenza)\":\"0.02324518850467583\"}],\"VariableImportances\":[{\"Chronic asthma\":[[\"PMHXAsthma\",\"1.0\"],[\"FEV1toFVCRatioImprovingBy12BeforeAndAfterBronchodilator\",\"0.8560450022808987\"],[\"DyspneaProgressionSubjective\",\"0.31910117459501813\"],[\"DyspneaSeveritySubjective\",\"0.25785600543377946\"],[\"PMHXAtopicDermatitis\",\"0.12650403595030454\"],[\"WheezingEpisodic\",\"0.10742686956195611\"],[\"Seasonal\",\"0.10508635033332234\"],[\"RR\",\"0.06877302590204225\"],[\"SeverityCough\",\"0.06070424306230451\"],[\"FHAtopicDermatitis\",\"0.051406336014977315\"]]},{\"Chronic obstructive pulmonary disease (COPD)\":[[\"PMHXCOPD\",\"1.0\"],[\"pCO2onABG\",\"0.9066965049828422\"],[\"Smoker\",\"0.8338251916185975\"],[\"DyspneaSeveritySubjective\",\"0.779999589494117\"],[\"DyspneaProgressionSubjective\",\"0.44220121183803807\"],[\"Rhonchi\",\"0.315495465187295\"],[\"FEV1toFVCRatioImprovingBy12BeforeAndAfterBronchodilator\",\"0.28266871461533943\"],[\"Rales\",\"0.27637253655726707\"],[\"Age\",\"0.25891158945324066\"],[\"MucousProductionInc\",\"0.2218830336596328\"]]},{\"Septic shock\":[[\"SBP\",\"1.0\"],[\"Arrest\",\"0.3219868261349471\"],[\"HypoTension\",\"0.2873428793980782\"],[\"PCT\",\"0.20648986268147995\"],[\"PlateletsLevel\",\"0.19652945955646145\"],[\"CRPlevel\",\"0.1446078301220712\"],[\"GeneralizedFatigue\",\"0.08974031792658335\"],[\"WBClevel\",\"0.06727817987754692\"],[\"PMHXID\",\"0.06079842739094406\"],[\"ColdUpperLimbTips\",\"0.056159874406598684\"]]},{\"Crohn\\'s disease\":[[\"PMHXChrons\",\"1.0\"],[\"CrohnsOnColonoscopy\",\"0.47406799428819785\"],[\"StomachPainProgressionSubjective\",\"0.17897102804861142\"],[\"StomachPainDuration\",\"0.17631548091312255\"],[\"CrohnsOnEGD\",\"0.1658980512860673\"],[\"CrohnsOnMRI\",\"0.11381010218144001\"],[\"CrohnsOnCT\",\"0.10782409111115342\"],[\"ESRlevel\",\"0.07519699396202595\"],[\"Age\",\"0.07387736358268239\"],[\"StomachPainDistributionSx\",\"0.05278872497693865\"]]},{\"Ulcerative colitis\":[[\"PMHXCU\",\"1.0\"],[\"UConColonoscopyPathology\",\"0.5239487692464342\"],[\"StomachPainResolvesPRDXSx\",\"0.12715525284782944\"],[\"StomachPainSeveritySx\",\"0.11476139419822796\"],[\"StomachPainProgressionSubjective\",\"0.10921990455860058\"],[\"StomachPainDistributionSx\",\"0.10429642954066576\"],[\"RLLQTender\",\"0.08998677970287544\"],[\"Age\",\"0.06831937851126343\"],[\"LowerMidAbdTender\",\"0.05438728524648472\"],[\"StomachPainDuration\",\"0.04884439029514762\"]]},{\"Chronic sinusitis\":[[\"PostNasalDrainage\",\"1.0\"],[\"ParanasalSinusesTargetedXrayForSinusitis\",\"0.47139232063574876\"],[\"RR\",\"0.32237195980059336\"],[\"SinusesTender\",\"0.25599445752607064\"],[\"PMHXAsthma\",\"0.24931153709334317\"],[\"PMHXAtopicDermatitis\",\"0.2484426045235382\"],[\"Seasonal\",\"0.22958391184746707\"],[\"Sneezing\",\"0.22395375457843233\"],[\"CranialCTNonContrastForChronicSinusitis\",\"0.19368118274355273\"],[\"WheezingH\",\"0.16579017346907296\"]]},{\"Influenza\":[[\"PCRFlu\",\"1.0\"],[\"RapidFluAntigenTesting\",\"0.842591387421631\"],[\"HistoryFever\",\"0.5136734342835686\"],[\"SeverityCough\",\"0.3986994652572543\"],[\"LymphocyteLevel\",\"0.3055540054793118\"],[\"Temp\",\"0.21941520593154415\"],[\"GeneralizedFatigue\",\"0.16687704756881985\"],[\"Contacts\",\"0.1390073878231796\"],[\"NoseCongestion\",\"0.10045380359706214\"],[\"O2Sats\",\"0.09714603477632792\"]]},{\"Allergic rhinitis to pollen\":[[\"NotSoSeasonal\",\"1.0\"],[\"Sneezing\",\"0.6638336063639466\"],[\"RunnyNoseCongestion\",\"0.5680926469348113\"],[\"DustMitesAllergyTesting\",\"0.4071198152238641\"],[\"MucusFeatures\",\"0.40670785877104815\"],[\"EyesItchy\",\"0.3002600559375005\"],[\"PostNasalDrainage\",\"0.29332181941672525\"],[\"PollenAllergyTesting\",\"0.2538472148589663\"],[\"Seasonal\",\"0.23708347170080182\"],[\"PMHXAtopicDermatitis\",\"0.13925230210237916\"]]},{\"Coronavirus disease 2019 (Covid-19) mostly upper respiratory tract infection with, or without bronchitis, but without significant pneumonia\":[[\"PCRCovid\",\"1.0\"],[\"ExposureToCovid\",\"0.3859095999308545\"],[\"LymphocyteLevel\",\"0.3298593012607193\"],[\"CRPlevel\",\"0.2520007640530469\"],[\"Temp\",\"0.21381355507856278\"],[\"O2Sats\",\"0.2006589753083674\"],[\"MucousProduction\",\"0.1989195845805969\"],[\"PlateletsLevel\",\"0.18556255843156408\"],[\"LossOfTaste\",\"0.14222522555165504\"],[\"HistoryFever\",\"0.11947531962718032\"]]},{\"Viral pharyngitis (etiology usually rhinovirus, coronavirus, adenovirus, parainfluenza)\":[[\"SoreThroatROS\",\"1.0\"],[\"PCRHIVDNA\",\"0.7255428968748285\"],[\"HIVWesternBlot\",\"0.6769344463548699\"],[\"AnteriorCervicalNodesExam\",\"0.522147948103858\"],[\"SeverityCough\",\"0.48491251675538066\"],[\"ThroatCulture\",\"0.4515369836424635\"],[\"RapiStrepTest\",\"0.41721559275276604\"],[\"Contacts\",\"0.28938530804805257\"],[\"ThroatExam\",\"0.2685955255451525\"],[\"HIV1HIV2ElisaResults\",\"0.2604376784444466\"]]}]}'"
      ]
     },
     "execution_count": 103,
     "metadata": {},
     "output_type": "execute_result"
    }
   ],
   "source": [
    "parameters = {\"SessionID\" : session_id}\n",
    "response_Analyze = requests.get(URL + \"Analyze\", params = parameters)\n",
    "response_Analyze.text"
   ]
  },
  {
   "cell_type": "code",
   "execution_count": 96,
   "metadata": {},
   "outputs": [
    {
     "data": {
      "text/plain": [
       "{'status': 'ok'}"
      ]
     },
     "execution_count": 96,
     "metadata": {},
     "output_type": "execute_result"
    }
   ],
   "source": [
    "parameters = {\"SessionID\" : session_id , \"name\" : \"Age\" , \"value\" : 19}\n",
    "\n",
    "response_UpdateFeature = requests.post(URL + \"UpdateFeature\", params = parameters)\n",
    "response_UpdateFeature.json()"
   ]
  },
  {
   "cell_type": "code",
   "execution_count": 97,
   "metadata": {},
   "outputs": [
    {
     "data": {
      "text/plain": [
       "{'status': 'ok'}"
      ]
     },
     "execution_count": 97,
     "metadata": {},
     "output_type": "execute_result"
    }
   ],
   "source": [
    "parameters = {\"SessionID\" : session_id , \"name\" : \"Temp\" , \"value\" : 104.0}\n",
    "\n",
    "response_UpdateFeature = requests.post(URL + \"UpdateFeature\", params = parameters)\n",
    "response_UpdateFeature.json()"
   ]
  }
 ],
 "metadata": {
  "kernelspec": {
   "display_name": "Python 3.10.4 ('cdds')",
   "language": "python",
   "name": "python3"
  },
  "language_info": {
   "codemirror_mode": {
    "name": "ipython",
    "version": 3
   },
   "file_extension": ".py",
   "mimetype": "text/x-python",
   "name": "python",
   "nbconvert_exporter": "python",
   "pygments_lexer": "ipython3",
   "version": "3.10.4"
  },
  "orig_nbformat": 4,
  "vscode": {
   "interpreter": {
    "hash": "8bab0a5423ce62a47f6e87205924ad62f3241dead0ab0b7b49b905e7bc7a44cc"
   }
  }
 },
 "nbformat": 4,
 "nbformat_minor": 2
}
