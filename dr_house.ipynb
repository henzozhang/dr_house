{
 "cells": [
  {
   "cell_type": "code",
   "execution_count": 91,
   "metadata": {},
   "outputs": [],
   "source": [
    "import requests"
   ]
  },
  {
   "cell_type": "markdown",
   "metadata": {},
   "source": [
    "URL = \"http://api.endlessmedical.com/v1/dx/\"\n",
    "\n",
    "list_of_features = requests.get(URL + \"GetFeatures\")\n",
    "\n",
    "print(list_of_features.json())"
   ]
  },
  {
   "cell_type": "code",
   "execution_count": 92,
   "metadata": {},
   "outputs": [],
   "source": [
    "URL = \"http://api.endlessmedical.com/v1/dx/\"\n",
    "response_InitSession = requests.get(URL + \"InitSession\")\n",
    "session_id = response_InitSession.json()[\"SessionID\"]"
   ]
  },
  {
   "cell_type": "code",
   "execution_count": 93,
   "metadata": {},
   "outputs": [
    {
     "data": {
      "text/plain": [
       "{'status': 'ok'}"
      ]
     },
     "execution_count": 93,
     "metadata": {},
     "output_type": "execute_result"
    }
   ],
   "source": [
    "passphrase = \"I have read, understood and I accept and agree to comply with the Terms of Use of EndlessMedicalAPI and Endless Medical services. The Terms of Use are available on endlessmedical.com\"\n",
    "parameters = {\"SessionID\" : session_id, \"passphrase\" : passphrase}\n",
    "\n",
    "response_AcceptTermsOfUse = requests.post(URL + \"AcceptTermsOfUse\", params = parameters)\n",
    "\n",
    "response_AcceptTermsOfUse.json()"
   ]
  },
  {
   "cell_type": "code",
   "execution_count": 100,
   "metadata": {},
   "outputs": [
    {
     "name": "stdout",
     "output_type": "stream",
     "text": [
      "Age 19\n",
      "Temp 104.0\n",
      "Contacts 3\n",
      "NewFoods 3\n",
      "LossOfSmell 3\n",
      "PMHXAsthma 3\n"
     ]
    }
   ],
   "source": [
    "patient1 = {\"Age\" : 19 , \"Temp\" : 104.0 , \"Contacts\" : 3 , \"NewFoods\" : 3 , \"LossOfSmell\" : 3 , \"PMHXAsthma\" : 3}\n",
    "\n",
    "def addFeatures(person):\n",
    "    for i in person:\n",
    "        print(i,person[i])\n",
    "        parameters = {\"SessionID\" : session_id , \"name\" : i , \"value\" : person[i]}\n",
    "        requests.post(URL + \"UpdateFeature\", params = parameters)\n",
    "\n",
    "addFeatures(patient1)"
   ]
  },
  {
   "cell_type": "code",
   "execution_count": 106,
   "metadata": {},
   "outputs": [
    {
     "data": {
      "text/plain": [
       "[{'Chronic asthma': '0.28426035261081384'},\n",
       " {'Chronic obstructive pulmonary disease (COPD)': '0.04427960901587269'},\n",
       " {'Septic shock': '0.04301496341390232'},\n",
       " {\"Crohn's disease\": '0.03611755399695382'},\n",
       " {'Ulcerative colitis': '0.031081128501297184'},\n",
       " {'Chronic sinusitis': '0.03100216294160063'},\n",
       " {'Influenza': '0.02909865152590485'},\n",
       " {'Allergic rhinitis to pollen': '0.027735179266990984'},\n",
       " {'Coronavirus disease 2019 (Covid-19) mostly upper respiratory tract infection with, or without bronchitis, but without significant pneumonia': '0.025210084033613467'},\n",
       " {'Viral pharyngitis (etiology usually rhinovirus, coronavirus, adenovirus, parainfluenza)': '0.02324518850467583'}]"
      ]
     },
     "execution_count": 106,
     "metadata": {},
     "output_type": "execute_result"
    }
   ],
   "source": [
    "parameters = {\"SessionID\" : session_id}\n",
    "response_Analyze = requests.get(URL + \"Analyze\", params = parameters)\n",
    "listeMaladies = response_Analyze.json()['Diseases']\n",
    "\n",
    "listeMaladies"
   ]
  },
  {
   "cell_type": "code",
   "execution_count": 96,
   "metadata": {},
   "outputs": [
    {
     "data": {
      "text/plain": [
       "{'status': 'ok'}"
      ]
     },
     "execution_count": 96,
     "metadata": {},
     "output_type": "execute_result"
    }
   ],
   "source": [
    "parameters = {\"SessionID\" : session_id , \"name\" : \"Age\" , \"value\" : 19}\n",
    "\n",
    "response_UpdateFeature = requests.post(URL + \"UpdateFeature\", params = parameters)\n",
    "response_UpdateFeature.json()"
   ]
  },
  {
   "cell_type": "code",
   "execution_count": 97,
   "metadata": {},
   "outputs": [
    {
     "data": {
      "text/plain": [
       "{'status': 'ok'}"
      ]
     },
     "execution_count": 97,
     "metadata": {},
     "output_type": "execute_result"
    }
   ],
   "source": [
    "parameters = {\"SessionID\" : session_id , \"name\" : \"Temp\" , \"value\" : 104.0}\n",
    "\n",
    "response_UpdateFeature = requests.post(URL + \"UpdateFeature\", params = parameters)\n",
    "response_UpdateFeature.json()"
   ]
  }
 ],
 "metadata": {
  "kernelspec": {
   "display_name": "Python 3.10.4 ('cdds')",
   "language": "python",
   "name": "python3"
  },
  "language_info": {
   "codemirror_mode": {
    "name": "ipython",
    "version": 3
   },
   "file_extension": ".py",
   "mimetype": "text/x-python",
   "name": "python",
   "nbconvert_exporter": "python",
   "pygments_lexer": "ipython3",
   "version": "3.10.4"
  },
  "orig_nbformat": 4,
  "vscode": {
   "interpreter": {
    "hash": "8bab0a5423ce62a47f6e87205924ad62f3241dead0ab0b7b49b905e7bc7a44cc"
   }
  }
 },
 "nbformat": 4,
 "nbformat_minor": 2
}
